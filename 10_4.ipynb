{
 "cells": [
  {
   "cell_type": "code",
   "execution_count": 2,
   "id": "3991347b-01b7-4380-9134-cfe5f203c332",
   "metadata": {},
   "outputs": [],
   "source": [
    "import pandas as pd"
   ]
  },
  {
   "cell_type": "code",
   "execution_count": 3,
   "id": "607a9e9e-b146-4563-984b-302e46664871",
   "metadata": {},
   "outputs": [],
   "source": [
    "data = {'Info': ['Name: Maggy, Age: 33', 'Name: Mike, Age: 23', 'Name: Bob, Age: 65']}"
   ]
  },
  {
   "cell_type": "code",
   "execution_count": 4,
   "id": "8473379d-d5fb-43b9-8f21-8eabfee9ce2c",
   "metadata": {},
   "outputs": [],
   "source": [
    "df = pd.DataFrame(data)"
   ]
  },
  {
   "cell_type": "code",
   "execution_count": 5,
   "id": "b5998276-6596-496c-bb24-16d877aaf2a9",
   "metadata": {},
   "outputs": [],
   "source": [
    "df[['Name', 'Age']] = df['Info'].str.extract(r'Name: (\\w+), Age: (\\d+)')"
   ]
  },
  {
   "cell_type": "code",
   "execution_count": 6,
   "id": "2b0ac134-febd-4720-a6d4-df90c971a343",
   "metadata": {},
   "outputs": [
    {
     "name": "stdout",
     "output_type": "stream",
     "text": [
      "                   Info   Name Age\n",
      "0  Name: Maggy, Age: 33  Maggy  33\n",
      "1   Name: Mike, Age: 23   Mike  23\n",
      "2    Name: Bob, Age: 65    Bob  65\n"
     ]
    }
   ],
   "source": [
    "print(df)"
   ]
  }
 ],
 "metadata": {
  "kernelspec": {
   "display_name": "Python 3 (ipykernel)",
   "language": "python",
   "name": "python3"
  },
  "language_info": {
   "codemirror_mode": {
    "name": "ipython",
    "version": 3
   },
   "file_extension": ".py",
   "mimetype": "text/x-python",
   "name": "python",
   "nbconvert_exporter": "python",
   "pygments_lexer": "ipython3",
   "version": "3.9.13"
  }
 },
 "nbformat": 4,
 "nbformat_minor": 5
}
