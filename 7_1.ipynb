{
 "cells": [
  {
   "cell_type": "code",
   "execution_count": 6,
   "id": "a0737c27-6c4c-423a-bffa-decdfdea3ee1",
   "metadata": {},
   "outputs": [],
   "source": [
    "num = 1\n",
    "text = 'text'\n",
    "spisok = [1, 2, 3]"
   ]
  },
  {
   "cell_type": "code",
   "execution_count": 7,
   "id": "bb26d344-a3ce-4b5d-b443-0dbec9cc1589",
   "metadata": {},
   "outputs": [],
   "source": [
    "x_2 = num*2\n",
    "text1 = text+'!!!'\n",
    "spisok.append(4)"
   ]
  },
  {
   "cell_type": "code",
   "execution_count": 8,
   "id": "be82b6ee-1232-49a9-86e7-1eaedaff4d82",
   "metadata": {},
   "outputs": [
    {
     "name": "stdout",
     "output_type": "stream",
     "text": [
      "2 text!!! [1, 2, 3, 4]\n"
     ]
    }
   ],
   "source": [
    "print(x_2,text1,spisok)"
   ]
  }
 ],
 "metadata": {
  "kernelspec": {
   "display_name": "Python 3 (ipykernel)",
   "language": "python",
   "name": "python3"
  },
  "language_info": {
   "codemirror_mode": {
    "name": "ipython",
    "version": 3
   },
   "file_extension": ".py",
   "mimetype": "text/x-python",
   "name": "python",
   "nbconvert_exporter": "python",
   "pygments_lexer": "ipython3",
   "version": "3.9.13"
  }
 },
 "nbformat": 4,
 "nbformat_minor": 5
}
