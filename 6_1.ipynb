{
 "cells": [
  {
   "cell_type": "code",
   "execution_count": 1,
   "id": "86dfeade-8974-4972-a977-8cf88ccd7b0c",
   "metadata": {},
   "outputs": [],
   "source": [
    "spisok = [1, 2, 3, 4]"
   ]
  },
  {
   "cell_type": "code",
   "execution_count": 11,
   "id": "c5c2306f-648b-44f4-a085-e0b7f3daf228",
   "metadata": {},
   "outputs": [
    {
     "name": "stdout",
     "output_type": "stream",
     "text": [
      "2\n"
     ]
    }
   ],
   "source": [
    "print(spisok[1])"
   ]
  },
  {
   "cell_type": "code",
   "execution_count": 12,
   "id": "b6d3902b-636e-47a6-a055-0ebcaaba3de5",
   "metadata": {},
   "outputs": [],
   "source": [
    "spisok[3] = 100"
   ]
  },
  {
   "cell_type": "code",
   "execution_count": 13,
   "id": "e5ee5f9b-1d8a-4eda-a0af-636e782fff09",
   "metadata": {},
   "outputs": [
    {
     "name": "stdout",
     "output_type": "stream",
     "text": [
      "[1, 2, 3, 100]\n"
     ]
    }
   ],
   "source": [
    "print(spisok)"
   ]
  }
 ],
 "metadata": {
  "kernelspec": {
   "display_name": "Python 3 (ipykernel)",
   "language": "python",
   "name": "python3"
  },
  "language_info": {
   "codemirror_mode": {
    "name": "ipython",
    "version": 3
   },
   "file_extension": ".py",
   "mimetype": "text/x-python",
   "name": "python",
   "nbconvert_exporter": "python",
   "pygments_lexer": "ipython3",
   "version": "3.9.13"
  }
 },
 "nbformat": 4,
 "nbformat_minor": 5
}
