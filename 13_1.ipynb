{
 "cells": [
  {
   "cell_type": "code",
   "execution_count": 22,
   "id": "f5e0abd8-f9c9-4181-897c-45217b68c357",
   "metadata": {},
   "outputs": [],
   "source": [
    "with open(\"text.txt\", \"w\") as file:\n",
    "    text = \"Hello\"\n",
    "    file.write(text)"
   ]
  },
  {
   "cell_type": "code",
   "execution_count": 23,
   "id": "282cb6fb-cbf6-49b7-82a2-3ac98cd58989",
   "metadata": {},
   "outputs": [],
   "source": [
    "with open(\"text.txt\") as file:\n",
    "    inner = file.read()"
   ]
  },
  {
   "cell_type": "code",
   "execution_count": 24,
   "id": "6d2085d9-d7e3-45b2-a20f-21b65bc41c5e",
   "metadata": {},
   "outputs": [
    {
     "name": "stdout",
     "output_type": "stream",
     "text": [
      "Hello\n"
     ]
    }
   ],
   "source": [
    "print(inner)"
   ]
  }
 ],
 "metadata": {
  "kernelspec": {
   "display_name": "Python 3 (ipykernel)",
   "language": "python",
   "name": "python3"
  },
  "language_info": {
   "codemirror_mode": {
    "name": "ipython",
    "version": 3
   },
   "file_extension": ".py",
   "mimetype": "text/x-python",
   "name": "python",
   "nbconvert_exporter": "python",
   "pygments_lexer": "ipython3",
   "version": "3.9.13"
  }
 },
 "nbformat": 4,
 "nbformat_minor": 5
}
