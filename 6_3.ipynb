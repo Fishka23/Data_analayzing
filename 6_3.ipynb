{
 "cells": [
  {
   "cell_type": "code",
   "execution_count": 3,
   "id": "365b6155-d475-42b6-87df-86a9b50f4435",
   "metadata": {},
   "outputs": [
    {
     "name": "stdin",
     "output_type": "stream",
     "text": [
      " 23 23 \n"
     ]
    }
   ],
   "source": [
    "num, num1 = map(float, input().split())"
   ]
  },
  {
   "cell_type": "code",
   "execution_count": 4,
   "id": "915efdb8-2fc1-4bd3-a57a-139eb5c83f15",
   "metadata": {},
   "outputs": [],
   "source": [
    "s = num + num1\n",
    "u = num * num1"
   ]
  },
  {
   "cell_type": "code",
   "execution_count": 5,
   "id": "5a7fefac-0c00-41d3-b379-61988d1b8edc",
   "metadata": {},
   "outputs": [
    {
     "name": "stdout",
     "output_type": "stream",
     "text": [
      "46.0 529.0\n"
     ]
    }
   ],
   "source": [
    "print(s,u)"
   ]
  }
 ],
 "metadata": {
  "kernelspec": {
   "display_name": "Python 3 (ipykernel)",
   "language": "python",
   "name": "python3"
  },
  "language_info": {
   "codemirror_mode": {
    "name": "ipython",
    "version": 3
   },
   "file_extension": ".py",
   "mimetype": "text/x-python",
   "name": "python",
   "nbconvert_exporter": "python",
   "pygments_lexer": "ipython3",
   "version": "3.9.13"
  }
 },
 "nbformat": 4,
 "nbformat_minor": 5
}
