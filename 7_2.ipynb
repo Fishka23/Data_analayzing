{
 "cells": [
  {
   "cell_type": "code",
   "execution_count": 1,
   "id": "3d778973-1131-4e5d-aa4a-9b622098ad9c",
   "metadata": {},
   "outputs": [],
   "source": [
    "x = 10\n",
    "y = 3"
   ]
  },
  {
   "cell_type": "code",
   "execution_count": 2,
   "id": "248a9245-8eff-4fba-b703-0931e35dfb6a",
   "metadata": {},
   "outputs": [],
   "source": [
    "summa = x+y\n",
    "sub = x-y\n",
    "proiz = x*y\n",
    "delen = x/y\n",
    "delen2 = x//y\n",
    "ost =x % y\n",
    "step = x**y"
   ]
  },
  {
   "cell_type": "raw",
   "id": "98b01ff5-26e1-491a-a753-f41cb73c1c5a",
   "metadata": {},
   "source": [
    "print(summa,sub,proiz,delen,delen2,ost,step)"
   ]
  },
  {
   "cell_type": "code",
   "execution_count": null,
   "id": "36fe52c8-79f1-4bc8-824d-dfb63fc620a8",
   "metadata": {},
   "outputs": [],
   "source": [
    "13 7 30 3.3333333333333335 3 1 1000"
   ]
  }
 ],
 "metadata": {
  "kernelspec": {
   "display_name": "Python 3 (ipykernel)",
   "language": "python",
   "name": "python3"
  },
  "language_info": {
   "codemirror_mode": {
    "name": "ipython",
    "version": 3
   },
   "file_extension": ".py",
   "mimetype": "text/x-python",
   "name": "python",
   "nbconvert_exporter": "python",
   "pygments_lexer": "ipython3",
   "version": "3.9.13"
  }
 },
 "nbformat": 4,
 "nbformat_minor": 5
}
