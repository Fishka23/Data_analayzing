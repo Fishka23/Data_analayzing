{
 "cells": [
  {
   "cell_type": "code",
   "execution_count": 7,
   "id": "4fdeb61b-e70c-42e3-8fdf-2f1aba486c12",
   "metadata": {},
   "outputs": [],
   "source": [
    "count = 10"
   ]
  },
  {
   "cell_type": "code",
   "execution_count": 8,
   "id": "aa131362-776b-4461-803f-6a3439fb226b",
   "metadata": {},
   "outputs": [
    {
     "name": "stdout",
     "output_type": "stream",
     "text": [
      "10\n",
      "9\n",
      "8\n",
      "7\n",
      "6\n",
      "5\n",
      "4\n",
      "3\n",
      "2\n",
      "1\n",
      "Start\n"
     ]
    }
   ],
   "source": [
    "while count > 0:\n",
    "    print(count)\n",
    "    count -= 1\n",
    "else:print('Start')"
   ]
  }
 ],
 "metadata": {
  "kernelspec": {
   "display_name": "Python 3 (ipykernel)",
   "language": "python",
   "name": "python3"
  },
  "language_info": {
   "codemirror_mode": {
    "name": "ipython",
    "version": 3
   },
   "file_extension": ".py",
   "mimetype": "text/x-python",
   "name": "python",
   "nbconvert_exporter": "python",
   "pygments_lexer": "ipython3",
   "version": "3.9.13"
  }
 },
 "nbformat": 4,
 "nbformat_minor": 5
}
