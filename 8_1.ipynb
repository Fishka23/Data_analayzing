{
 "cells": [
  {
   "cell_type": "code",
   "execution_count": 4,
   "id": "c9ec0b86-ecc7-4d3b-bf27-e55db4749e8d",
   "metadata": {},
   "outputs": [
    {
     "name": "stdin",
     "output_type": "stream",
     "text": [
      " 55\n"
     ]
    }
   ],
   "source": [
    "num = int(input())"
   ]
  },
  {
   "cell_type": "code",
   "execution_count": 5,
   "id": "64dca409-47a9-4ea6-be8b-b714adff7c66",
   "metadata": {},
   "outputs": [
    {
     "name": "stdout",
     "output_type": "stream",
     "text": [
      "Число положительное\n"
     ]
    }
   ],
   "source": [
    "if num >0:print(\"Число положительное\")\n",
    "elif num <0:print(\"Число отризательноее\")\n",
    "else:(\"Число равно нулю\")"
   ]
  }
 ],
 "metadata": {
  "kernelspec": {
   "display_name": "Python 3 (ipykernel)",
   "language": "python",
   "name": "python3"
  },
  "language_info": {
   "codemirror_mode": {
    "name": "ipython",
    "version": 3
   },
   "file_extension": ".py",
   "mimetype": "text/x-python",
   "name": "python",
   "nbconvert_exporter": "python",
   "pygments_lexer": "ipython3",
   "version": "3.9.13"
  }
 },
 "nbformat": 4,
 "nbformat_minor": 5
}
