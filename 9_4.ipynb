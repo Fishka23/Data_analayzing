{
 "cells": [
  {
   "cell_type": "code",
   "execution_count": 1,
   "id": "25940e64-29de-42b3-8322-bb6a43a29587",
   "metadata": {},
   "outputs": [
    {
     "name": "stdout",
     "output_type": "stream",
     "text": [
      "Comb:(1, 1)\n",
      "Comb:(1, 2)\n",
      "Comb:(2, 1)\n",
      "Comb:(2, 2)\n",
      "Comb:(3, 1)\n",
      "Comb:(3, 2)\n"
     ]
    }
   ],
   "source": [
    "for i in range(1,4):\n",
    "    for j in range(1,3):\n",
    "        print(f'Comb:{i,j}')"
   ]
  }
 ],
 "metadata": {
  "kernelspec": {
   "display_name": "Python 3 (ipykernel)",
   "language": "python",
   "name": "python3"
  },
  "language_info": {
   "codemirror_mode": {
    "name": "ipython",
    "version": 3
   },
   "file_extension": ".py",
   "mimetype": "text/x-python",
   "name": "python",
   "nbconvert_exporter": "python",
   "pygments_lexer": "ipython3",
   "version": "3.9.13"
  }
 },
 "nbformat": 4,
 "nbformat_minor": 5
}
