{
 "cells": [
  {
   "cell_type": "code",
   "execution_count": 1,
   "id": "794595d7-47c0-417c-83cd-2513183a602c",
   "metadata": {},
   "outputs": [],
   "source": [
    "import pandas as pd"
   ]
  },
  {
   "cell_type": "code",
   "execution_count": 2,
   "id": "5cd6f0ea-0764-4786-a584-42b6d9cb74cc",
   "metadata": {},
   "outputs": [],
   "source": [
    "df = pd.read_csv('123.csv')"
   ]
  },
  {
   "cell_type": "code",
   "execution_count": 3,
   "id": "e63b8411-a095-42d0-9351-8e3f971043a4",
   "metadata": {},
   "outputs": [
    {
     "name": "stdout",
     "output_type": "stream",
     "text": [
      "Empty DataFrame\n",
      "Columns: [тот самый Текстовый файл!]\n",
      "Index: []\n"
     ]
    }
   ],
   "source": [
    "print(df)"
   ]
  },
  {
   "cell_type": "code",
   "execution_count": 5,
   "id": "df8014b9-ccac-4a11-aadc-4f8af1fe2a70",
   "metadata": {},
   "outputs": [],
   "source": [
    "df.to_csv('1234.csv', index=False)"
   ]
  }
 ],
 "metadata": {
  "kernelspec": {
   "display_name": "Python 3 (ipykernel)",
   "language": "python",
   "name": "python3"
  },
  "language_info": {
   "codemirror_mode": {
    "name": "ipython",
    "version": 3
   },
   "file_extension": ".py",
   "mimetype": "text/x-python",
   "name": "python",
   "nbconvert_exporter": "python",
   "pygments_lexer": "ipython3",
   "version": "3.9.13"
  }
 },
 "nbformat": 4,
 "nbformat_minor": 5
}
