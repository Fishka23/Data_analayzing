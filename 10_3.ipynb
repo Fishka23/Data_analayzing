{
 "cells": [
  {
   "cell_type": "code",
   "execution_count": 9,
   "id": "0cae8844-2469-48ae-adce-4e629da63a97",
   "metadata": {},
   "outputs": [],
   "source": [
    "import pandas as pd"
   ]
  },
  {
   "cell_type": "code",
   "execution_count": 11,
   "id": "311ba359-fcff-498f-b275-31888a0c7273",
   "metadata": {},
   "outputs": [],
   "source": [
    "data = {'Email': ['mail@gmail.com', 'mail@yandex.ru', 'mail@yahoo.com']}"
   ]
  },
  {
   "cell_type": "code",
   "execution_count": 12,
   "id": "d0e54983-71a7-4afb-9b07-964b8be58894",
   "metadata": {},
   "outputs": [],
   "source": [
    "df = pd.DataFrame(data)"
   ]
  },
  {
   "cell_type": "code",
   "execution_count": 13,
   "id": "d4dc9096-941c-42e1-a8c2-e8692f802615",
   "metadata": {},
   "outputs": [],
   "source": [
    "filtered_df = df[df['Email'].str.endswith('.com')]"
   ]
  },
  {
   "cell_type": "code",
   "execution_count": 14,
   "id": "7d04dcae-5981-464c-8211-1dadbefa7aa0",
   "metadata": {},
   "outputs": [
    {
     "name": "stdout",
     "output_type": "stream",
     "text": [
      "            Email\n",
      "0  mail@gmail.com\n",
      "2  mail@yahoo.com\n"
     ]
    }
   ],
   "source": [
    "print(filtered_df)"
   ]
  }
 ],
 "metadata": {
  "kernelspec": {
   "display_name": "Python 3 (ipykernel)",
   "language": "python",
   "name": "python3"
  },
  "language_info": {
   "codemirror_mode": {
    "name": "ipython",
    "version": 3
   },
   "file_extension": ".py",
   "mimetype": "text/x-python",
   "name": "python",
   "nbconvert_exporter": "python",
   "pygments_lexer": "ipython3",
   "version": "3.9.13"
  }
 },
 "nbformat": 4,
 "nbformat_minor": 5
}
