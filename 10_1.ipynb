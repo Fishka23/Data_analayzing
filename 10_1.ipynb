{
 "cells": [
  {
   "cell_type": "code",
   "execution_count": 2,
   "id": "6884fd16-2584-42ba-b8f5-3d217951ce93",
   "metadata": {},
   "outputs": [],
   "source": [
    "import pandas as pd"
   ]
  },
  {
   "cell_type": "code",
   "execution_count": 5,
   "id": "d26a9211-0993-4c72-8b78-f605944047b4",
   "metadata": {},
   "outputs": [],
   "source": [
    "data = {'Name':['alice', 'BOB', 'Charlie']}"
   ]
  },
  {
   "cell_type": "code",
   "execution_count": 6,
   "id": "14f9c857-2ebd-4ea1-8104-dd951d50d5d5",
   "metadata": {},
   "outputs": [],
   "source": [
    "df = pd.DataFrame(data)"
   ]
  },
  {
   "cell_type": "code",
   "execution_count": 7,
   "id": "ff5810c8-aed1-4f68-a0e0-18c86237d506",
   "metadata": {},
   "outputs": [],
   "source": [
    "df['Name'] = df['Name'].str.lower()"
   ]
  },
  {
   "cell_type": "code",
   "execution_count": 8,
   "id": "5b21cc39-662c-437e-8244-7d450bdb4dea",
   "metadata": {},
   "outputs": [
    {
     "name": "stdout",
     "output_type": "stream",
     "text": [
      "      Name\n",
      "0    alice\n",
      "1      bob\n",
      "2  charlie\n"
     ]
    }
   ],
   "source": [
    "print(df)"
   ]
  }
 ],
 "metadata": {
  "kernelspec": {
   "display_name": "Python 3 (ipykernel)",
   "language": "python",
   "name": "python3"
  },
  "language_info": {
   "codemirror_mode": {
    "name": "ipython",
    "version": 3
   },
   "file_extension": ".py",
   "mimetype": "text/x-python",
   "name": "python",
   "nbconvert_exporter": "python",
   "pygments_lexer": "ipython3",
   "version": "3.9.13"
  }
 },
 "nbformat": 4,
 "nbformat_minor": 5
}
