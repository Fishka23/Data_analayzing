{
 "cells": [
  {
   "cell_type": "code",
   "execution_count": 16,
   "id": "a975e5f7-1398-4e33-a751-1ac46060c56a",
   "metadata": {},
   "outputs": [],
   "source": [
    "student = {\"Name\": \"Bob\", \"age\": 20, \n",
    "    \"course\": \"Data Science\"}"
   ]
  },
  {
   "cell_type": "code",
   "execution_count": 17,
   "id": "87c39322-7b1d-4a1b-af0c-1e174adb525f",
   "metadata": {},
   "outputs": [],
   "source": [
    "student.update({\"CCNA\": \"Computer Science\"})"
   ]
  },
  {
   "cell_type": "code",
   "execution_count": 18,
   "id": "ca367783-4a12-419a-bca9-d36112b40d34",
   "metadata": {},
   "outputs": [
    {
     "name": "stdout",
     "output_type": "stream",
     "text": [
      "{'Name': 'Bob', 'age': 20, 'course': 'Data Science', 'CCNA': 'Computer Science'}\n"
     ]
    }
   ],
   "source": [
    "print(student)"
   ]
  },
  {
   "cell_type": "code",
   "execution_count": null,
   "id": "c6a54ea9-bb7f-41c0-9374-4edfa57a1b5a",
   "metadata": {},
   "outputs": [],
   "source": []
  }
 ],
 "metadata": {
  "kernelspec": {
   "display_name": "Python 3 (ipykernel)",
   "language": "python",
   "name": "python3"
  },
  "language_info": {
   "codemirror_mode": {
    "name": "ipython",
    "version": 3
   },
   "file_extension": ".py",
   "mimetype": "text/x-python",
   "name": "python",
   "nbconvert_exporter": "python",
   "pygments_lexer": "ipython3",
   "version": "3.9.13"
  }
 },
 "nbformat": 4,
 "nbformat_minor": 5
}
