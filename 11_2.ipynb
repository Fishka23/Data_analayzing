{
 "cells": [
  {
   "cell_type": "code",
   "execution_count": 2,
   "id": "6166ef0a-ebc9-41b3-befc-ec9da1adc425",
   "metadata": {},
   "outputs": [],
   "source": [
    "import pandas as pd"
   ]
  },
  {
   "cell_type": "code",
   "execution_count": 3,
   "id": "ef403eea-0598-4934-a117-f575e9af3570",
   "metadata": {},
   "outputs": [],
   "source": [
    "data = {'Name': ['Maggie', 'MIke', 'Joe'],\n",
    "    'Age': [33, 34, 54]}"
   ]
  },
  {
   "cell_type": "code",
   "execution_count": 4,
   "id": "a189ab39-c205-42f5-bdbc-278021537850",
   "metadata": {},
   "outputs": [],
   "source": [
    "df = pd.DataFrame(data)"
   ]
  },
  {
   "cell_type": "code",
   "execution_count": 5,
   "id": "e6213020-f659-42ef-b805-4df22368c5e8",
   "metadata": {},
   "outputs": [],
   "source": [
    "row = pd.DataFrame({'Name': ['David'], 'Age': [40]})"
   ]
  },
  {
   "cell_type": "code",
   "execution_count": 7,
   "id": "892a0fd5-506a-4abc-830f-9bef7af7c814",
   "metadata": {},
   "outputs": [],
   "source": [
    "df = df._append(row, ignore_index=True)"
   ]
  },
  {
   "cell_type": "code",
   "execution_count": 8,
   "id": "9a4cce8a-cf0d-4a46-ba0e-61c7b79a4b36",
   "metadata": {},
   "outputs": [
    {
     "name": "stdout",
     "output_type": "stream",
     "text": [
      "     Name  Age\n",
      "0  Maggie   33\n",
      "1    MIke   34\n",
      "2     Joe   54\n",
      "3   David   40\n"
     ]
    }
   ],
   "source": [
    "print(df)"
   ]
  }
 ],
 "metadata": {
  "kernelspec": {
   "display_name": "Python 3 (ipykernel)",
   "language": "python",
   "name": "python3"
  },
  "language_info": {
   "codemirror_mode": {
    "name": "ipython",
    "version": 3
   },
   "file_extension": ".py",
   "mimetype": "text/x-python",
   "name": "python",
   "nbconvert_exporter": "python",
   "pygments_lexer": "ipython3",
   "version": "3.9.13"
  }
 },
 "nbformat": 4,
 "nbformat_minor": 5
}
