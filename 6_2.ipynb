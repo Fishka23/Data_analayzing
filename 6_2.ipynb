{
 "cells": [
  {
   "cell_type": "code",
   "execution_count": 14,
   "id": "de37bedc-914c-4ff6-aa36-d4a7004f0fb2",
   "metadata": {},
   "outputs": [
    {
     "name": "stdin",
     "output_type": "stream",
     "text": [
      " Иван 25\n"
     ]
    }
   ],
   "source": [
    "name, age = input().split()"
   ]
  },
  {
   "cell_type": "code",
   "execution_count": 15,
   "id": "af886699-5497-4a68-a229-91e0a1454a34",
   "metadata": {},
   "outputs": [
    {
     "name": "stdout",
     "output_type": "stream",
     "text": [
      "Имя:, Иван! Возраст: 25.\n"
     ]
    }
   ],
   "source": [
    "print(f\"Имя:, {name}! Возраст: {age}.\")"
   ]
  }
 ],
 "metadata": {
  "kernelspec": {
   "display_name": "Python 3 (ipykernel)",
   "language": "python",
   "name": "python3"
  },
  "language_info": {
   "codemirror_mode": {
    "name": "ipython",
    "version": 3
   },
   "file_extension": ".py",
   "mimetype": "text/x-python",
   "name": "python",
   "nbconvert_exporter": "python",
   "pygments_lexer": "ipython3",
   "version": "3.9.13"
  }
 },
 "nbformat": 4,
 "nbformat_minor": 5
}
