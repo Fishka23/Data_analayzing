{
 "cells": [
  {
   "cell_type": "code",
   "execution_count": 1,
   "id": "f2323ff3-877f-4f0e-9a7c-1522d364a3cd",
   "metadata": {},
   "outputs": [],
   "source": [
    "import pandas as pd"
   ]
  },
  {
   "cell_type": "code",
   "execution_count": 2,
   "id": "60db29a9-0241-4b10-a5e5-24e5bafa6ecd",
   "metadata": {},
   "outputs": [],
   "source": [
    "data = {'Age': [15, 34, 45]}"
   ]
  },
  {
   "cell_type": "code",
   "execution_count": 3,
   "id": "ec196689-905c-40b1-99ed-8bbc5e402a2b",
   "metadata": {},
   "outputs": [],
   "source": [
    "df = pd.DataFrame(data)"
   ]
  },
  {
   "cell_type": "code",
   "execution_count": 4,
   "id": "d7ce780b-28a0-42e2-89b8-be890067d64a",
   "metadata": {},
   "outputs": [],
   "source": [
    "df['Age'] = df['Age'].astype(str)"
   ]
  },
  {
   "cell_type": "code",
   "execution_count": 5,
   "id": "93259088-f7aa-49d6-beef-f423b66a61de",
   "metadata": {},
   "outputs": [],
   "source": [
    "df['Age'] = df['Age'].astype(int)"
   ]
  },
  {
   "cell_type": "code",
   "execution_count": 6,
   "id": "92cc0ed6-b94a-4bb4-a885-9bcc144e2142",
   "metadata": {},
   "outputs": [
    {
     "name": "stdout",
     "output_type": "stream",
     "text": [
      "   Age\n",
      "0   15\n",
      "1   34\n",
      "2   45\n"
     ]
    }
   ],
   "source": [
    "print(df)"
   ]
  }
 ],
 "metadata": {
  "kernelspec": {
   "display_name": "Python 3 (ipykernel)",
   "language": "python",
   "name": "python3"
  },
  "language_info": {
   "codemirror_mode": {
    "name": "ipython",
    "version": 3
   },
   "file_extension": ".py",
   "mimetype": "text/x-python",
   "name": "python",
   "nbconvert_exporter": "python",
   "pygments_lexer": "ipython3",
   "version": "3.9.13"
  }
 },
 "nbformat": 4,
 "nbformat_minor": 5
}
