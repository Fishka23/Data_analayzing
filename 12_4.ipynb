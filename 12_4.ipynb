{
 "cells": [
  {
   "cell_type": "code",
   "execution_count": 15,
   "id": "773237fa-c475-4fd2-9a53-587cc664071f",
   "metadata": {},
   "outputs": [],
   "source": [
    "import pandas as pd"
   ]
  },
  {
   "cell_type": "code",
   "execution_count": 16,
   "id": "c2be97ef-0fe3-44c6-9077-4d0c185382ff",
   "metadata": {},
   "outputs": [],
   "source": [
    "sales_data = {\n",
    "    'January': {'Apples': 50, 'Oranges': 35},\n",
    "    'February': {'Apples': 40, 'Oranges': 30}\n",
    "}"
   ]
  },
  {
   "cell_type": "code",
   "execution_count": 17,
   "id": "3404421f-92e7-4ed7-967e-ca7226cb6156",
   "metadata": {},
   "outputs": [],
   "source": [
    "df = pd.DataFrame(sales_data)"
   ]
  },
  {
   "cell_type": "code",
   "execution_count": 18,
   "id": "8a8eccea-c95b-465a-b1b4-73fb9552a57c",
   "metadata": {},
   "outputs": [],
   "source": [
    "total_sales = df.sum()"
   ]
  },
  {
   "cell_type": "code",
   "execution_count": 19,
   "id": "d04df7f6-1a61-4cf0-beb4-2af7191cdc2b",
   "metadata": {},
   "outputs": [
    {
     "name": "stdout",
     "output_type": "stream",
     "text": [
      "January     85\n",
      "February    70\n",
      "dtype: int64\n"
     ]
    }
   ],
   "source": [
    "print(total_sales)"
   ]
  }
 ],
 "metadata": {
  "kernelspec": {
   "display_name": "Python 3 (ipykernel)",
   "language": "python",
   "name": "python3"
  },
  "language_info": {
   "codemirror_mode": {
    "name": "ipython",
    "version": 3
   },
   "file_extension": ".py",
   "mimetype": "text/x-python",
   "name": "python",
   "nbconvert_exporter": "python",
   "pygments_lexer": "ipython3",
   "version": "3.9.13"
  }
 },
 "nbformat": 4,
 "nbformat_minor": 5
}
