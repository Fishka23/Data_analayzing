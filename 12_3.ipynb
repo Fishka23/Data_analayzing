{
 "cells": [
  {
   "cell_type": "code",
   "execution_count": 24,
   "id": "fb2b5ebb-631b-4e88-b0ba-9ec25751f812",
   "metadata": {},
   "outputs": [],
   "source": [
    "import pandas as pd"
   ]
  },
  {
   "cell_type": "code",
   "execution_count": 25,
   "id": "7925f676-3046-4467-a4d1-2045ceaf589c",
   "metadata": {},
   "outputs": [],
   "source": [
    "sales_data = {\n",
    "    'January': {'Apples': 50, 'Oranges': 35},\n",
    "    'February': {'Apples': 40, 'Oranges': 30}\n",
    "}"
   ]
  },
  {
   "cell_type": "code",
   "execution_count": 27,
   "id": "3768d8aa-d0f9-4355-b559-83a10b4fff30",
   "metadata": {},
   "outputs": [],
   "source": [
    "df = pd.DataFrame(sales_data)"
   ]
  },
  {
   "cell_type": "code",
   "execution_count": 28,
   "id": "30f87a39-9a37-482c-b6a5-e5c13d584c64",
   "metadata": {},
   "outputs": [
    {
     "name": "stdout",
     "output_type": "stream",
     "text": [
      "         January  February\n",
      "Apples        50        40\n",
      "Oranges       35        30\n"
     ]
    }
   ],
   "source": [
    "print(df)"
   ]
  }
 ],
 "metadata": {
  "kernelspec": {
   "display_name": "Python 3 (ipykernel)",
   "language": "python",
   "name": "python3"
  },
  "language_info": {
   "codemirror_mode": {
    "name": "ipython",
    "version": 3
   },
   "file_extension": ".py",
   "mimetype": "text/x-python",
   "name": "python",
   "nbconvert_exporter": "python",
   "pygments_lexer": "ipython3",
   "version": "3.9.13"
  }
 },
 "nbformat": 4,
 "nbformat_minor": 5
}
